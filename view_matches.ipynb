{
 "cells": [
  {
   "cell_type": "code",
   "execution_count": null,
   "id": "cf2cb6db",
   "metadata": {
    "vscode": {
     "languageId": "plaintext"
    }
   },
   "outputs": [],
   "source": [
    "import os\n",
    "import json\n",
    "import cv2\n",
    "import matplotlib.pyplot as plt\n",
    "\n",
    "# Paths\n",
    "broadcast_dir = \"crops/broadcast\"\n",
    "tacticam_dir = \"crops/tacticam\"\n",
    "matches_file = \"results/matches.json\"\n",
    "\n",
    "# Load matches\n",
    "with open(matches_file, \"r\") as f:\n",
    "    matches = json.load(f)\n",
    "\n",
    "# Display first N matches\n",
    "N = 5\n",
    "for i, (tac_name, brd_name) in enumerate(matches.items()):\n",
    "    if i >= N:\n",
    "        break\n",
    "\n",
    "    tac_path = os.path.join(tacticam_dir, tac_name)\n",
    "    brd_path = os.path.join(broadcast_dir, brd_name)\n",
    "\n",
    "    tac_img = cv2.cvtColor(cv2.imread(tac_path), cv2.COLOR_BGR2RGB)\n",
    "    brd_img = cv2.cvtColor(cv2.imread(brd_path), cv2.COLOR_BGR2RGB)\n",
    "\n",
    "    # Plot side by side\n",
    "    plt.figure(figsize=(8, 4))\n",
    "    plt.subplot(1, 2, 1)\n",
    "    plt.imshow(tac_img)\n",
    "    plt.title(f\"Tacticam: {tac_name}\")\n",
    "    plt.axis(\"off\")\n",
    "\n",
    "    plt.subplot(1, 2, 2)\n",
    "    plt.imshow(brd_img)\n",
    "    plt.title(f\"Broadcast: {brd_name}\")\n",
    "    plt.axis(\"off\")\n",
    "\n",
    "    plt.tight_layout()\n",
    "    plt.show()\n"
   ]
  }
 ],
 "metadata": {
  "language_info": {
   "name": "python"
  }
 },
 "nbformat": 4,
 "nbformat_minor": 5
}
